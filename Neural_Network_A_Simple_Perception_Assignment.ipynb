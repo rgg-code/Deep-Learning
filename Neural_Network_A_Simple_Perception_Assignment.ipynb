{
  "nbformat": 4,
  "nbformat_minor": 0,
  "metadata": {
    "colab": {
      "provenance": [],
      "authorship_tag": "ABX9TyOo8rMKQBMlAjl5dzD2PlSp",
      "include_colab_link": true
    },
    "kernelspec": {
      "name": "python3",
      "display_name": "Python 3"
    },
    "language_info": {
      "name": "python"
    }
  },
  "cells": [
    {
      "cell_type": "markdown",
      "metadata": {
        "id": "view-in-github",
        "colab_type": "text"
      },
      "source": [
        "<a href=\"https://colab.research.google.com/github/rgg-code/Deep-Learning/blob/main/Neural_Network_A_Simple_Perception_Assignment.ipynb\" target=\"_parent\"><img src=\"https://colab.research.google.com/assets/colab-badge.svg\" alt=\"Open In Colab\"/></a>"
      ]
    },
    {
      "cell_type": "markdown",
      "source": [
        "Neural Network A Simple Perception Assignment"
      ],
      "metadata": {
        "id": "RL3a_5_KSjbk"
      }
    },
    {
      "cell_type": "markdown",
      "source": [
        "Neural Network:\n",
        "\n",
        "Theoretical Questions\n",
        "\n",
        "\n",
        "1. What is deep learning, and how is it connected to artificial intelligence?\n",
        "\n",
        "Deep learning is a subfield of machine learning inspired by the structure and function of the human brain, specifically artificial neural networks. It involves training deep neural networks (networks with many layers) on large datasets to learn complex patterns and representations. Deep learning is a powerful approach within Artificial Intelligence (AI) that has driven significant advancements in areas like computer vision, natural language processing, and speech recognition, enabling AI systems to perform tasks that were previously difficult or impossible for machines.\n",
        "\n",
        "2. What is a neural network, and what are the different types of neural networks?\n",
        "\n",
        "A neural network (NN) is a computational model inspired by biological neural networks. It consists of interconnected \"neurons\" (nodes) organized in layers: an input layer, one or more hidden layers, and an output layer. Each connection has a weight, and each neuron has an activation function. NNs learn by adjusting these weights based on input data.\n",
        "Common types include:\n",
        "\n",
        "Feedforward Neural Networks (FNNs)/Multi-Layer Perceptrons (MLPs): Information flows in one direction, from input to output, without loops.\n",
        "\n",
        "Convolutional Neural Networks (CNNs): Specialized for processing grid-like data (e.g., images), using convolutional layers to automatically learn spatial hierarchies of features.\n",
        "\n",
        "Recurrent Neural Networks (RNNs): Designed for sequential data (e.g., text, time series), with connections that allow information to persist from one step to the next, giving them \"memory.\"\n",
        "\n",
        "Long Short-Term Memory (LSTM) and Gated Recurrent Unit (GRU): Advanced types of RNNs that address the vanishing gradient problem and are better at capturing long-range dependencies.\n",
        "\n",
        "Generative Adversarial Networks (GANs): Composed of two competing networks (Generator and Discriminator) that learn to generate new data resembling the training data.\n",
        "\n",
        "Transformer Networks: Dominant in NLP, relying on self-attention mechanisms to weigh the importance of different parts of the input sequence.\n",
        "\n",
        "3. What is the mathematical structure of a neural network?\n",
        "\n",
        "The core mathematical structure of a neural network involves linear transformations followed by non-linear activation functions. For a single neuron, the output y is calculated as:\n",
        "\n",
        "\n",
        "y=f(\n",
        "i=1\n",
        "∑\n",
        "n\n",
        "​\n",
        " w\n",
        "i\n",
        "​\n",
        " x\n",
        "i\n",
        "​\n",
        " +b)\n",
        "\n",
        "where x\n",
        "i\n",
        "​\n",
        "  are inputs, w\n",
        "i\n",
        "​\n",
        "  are weights, b is the bias, and f is the activation function.\n",
        "For a layer, this can be represented in matrix form:\n",
        "\n",
        "\n",
        "Z=XW+B\n",
        "A=f(Z)\n",
        "\n",
        "where X is the input matrix, W is the weight matrix, B is the bias vector, Z is the weighted sum (pre-activation), and A is the activated output of the layer. Multiple layers stack these operations.\n",
        "\n",
        "4. What is an activation function, and why is it essential in neural networks?\n",
        "\n",
        "An activation function introduces non-linearity into the neural network. Without activation functions, a neural network, no matter how many layers it has, would only be able to learn linear transformations, essentially behaving like a single-layer perceptron or linear regression model. Non-linearity allows neural networks to learn complex, non-linear relationships and patterns in data, which are crucial for solving real-world problems like image recognition or natural language understanding.\n",
        "\n",
        "5. Could you list some common activation functions used in neural networks?\n",
        "\n",
        "Common activation functions include:\n",
        "\n",
        "Sigmoid: σ(x)=\n",
        "1+e\n",
        "−x\n",
        "\n",
        "1\n",
        "​\n",
        " . Outputs values between 0 and 1, often used in output layers for binary classification.\n",
        "\n",
        "Tanh (Hyperbolic Tangent): tanh(x)=\n",
        "e\n",
        "x\n",
        " +e\n",
        "−x\n",
        "\n",
        "e\n",
        "x\n",
        " −e\n",
        "−x\n",
        "\n",
        "​\n",
        " . Outputs values between -1 and 1, zero-centered, often preferred over sigmoid for hidden layers.\n",
        "\n",
        "ReLU (Rectified Linear Unit): ReLU(x)=max(0,x). Simple, computationally efficient, and helps mitigate the vanishing gradient problem. Widely used in hidden layers.\n",
        "\n",
        "Leaky ReLU: LeakyReLU(x)=max(αx,x) where α is a small positive constant. Addresses the \"dying ReLU\" problem by allowing a small gradient for negative inputs.\n",
        "\n",
        "Softmax: Softmax(xi= ∑ j=1Ke x je x i\n",
        "\n",
        " . Used in the output layer for multi-class classification, converting raw scores into probabilities that sum to 1.\n",
        "\n",
        "6. What is a multilayer neural network?\n",
        "\n",
        "A multilayer neural network (MNN), often referred to as a Multi-Layer Perceptron (MLP), is a feedforward neural network consisting of at least three layers: an input layer, one or more hidden layers, and an output layer. Each neuron in one layer is typically connected to all neurons in the subsequent layer. The \"multilayer\" aspect allows the network to learn increasingly abstract and complex representations of the input data as information passes through the hidden layers.\n",
        "\n",
        "7. What is a loss function, and why is it crucial for neural network training?\n",
        "\n",
        "A loss function (or cost function) quantifies the difference between the predicted output of the neural network and the true target output. It measures how well the model is performing. It is crucial because during training, the goal of the optimization algorithm (like gradient descent) is to minimize this loss function. By calculating the loss, the network knows how much its predictions deviate from the truth, allowing it to adjust its internal weights and biases to improve future predictions.\n",
        "\n",
        "8. What are some common types of loss functions?\n",
        "\n",
        "Common types of loss functions include:\n",
        "\n",
        "Mean Squared Error (MSE):\n",
        "\n",
        "MSE= N1∑ i=1N(y i−y^​i)2\n",
        "\n",
        " . Used for regression tasks, penalizes larger errors more heavily.\n",
        "\n",
        "Mean Absolute Error (MAE):\n",
        "\n",
        "MAE= N 1∑i=1 N ∣y i−y^ i ∣.\n",
        "\n",
        " Used for regression, less sensitive to outliers than MSE.\n",
        "\n",
        "Binary Cross-Entropy:\n",
        "\n",
        "L=−(ylog(y^)+(1−y)log(1−y^)).\n",
        "\n",
        "Used for binary classification tasks, where y is the true label (0 or 1) and y^ is the predicted probability.\n",
        "\n",
        "Categorical Cross-Entropy: Used for multi-class classification when target labels are one-hot encoded.\n",
        "\n",
        "Sparse Categorical Cross-Entropy: Used for multi-class classification when target labels are integers (not one-hot encoded).\n",
        "\n",
        "Kullback-Leibler Divergence (KL Divergence): Measures the difference between two probability distributions, often used in generative models.\n",
        "\n",
        "9. How does a neural network learn?\n",
        "\n",
        "A neural network learns through an iterative process called backpropagation combined with an optimizer (usually a form of gradient descent).\n",
        "\n",
        "Forward Propagation: Input data passes through the network, generating an output prediction.\n",
        "\n",
        "Loss Calculation: The loss function compares the prediction to the true target, quantifying the error.\n",
        "\n",
        "Backpropagation: The error is propagated backward through the network. This process calculates the gradient of the loss function with respect to each weight and bias in the network. The gradients indicate how much each parameter contributes to the error and in which direction it needs to be adjusted.\n",
        "\n",
        "Parameter Update (Optimization): An optimizer uses these gradients to adjust the weights and biases, typically by moving them in the direction that minimizes the loss. This process is repeated over many iterations (epochs) and batches of data until the network's predictions are sufficiently accurate.\n",
        "\n",
        "10. What is an optimizer in neural networks, and why is it necessary?\n",
        "An optimizer is an algorithm or function that adjusts the weights and biases of a neural network during training to minimize the loss function. It is necessary because it dictates how the network learns. While backpropagation provides the gradients (the direction and magnitude of change needed for each parameter), the optimizer uses these gradients to actually update the parameters efficiently, guiding the network towards the optimal set of weights that yield the lowest loss and best performance.\n",
        "\n",
        "11. Could you briefly describe some common optimizers?\n",
        "\n",
        "Stochastic Gradient Descent (SGD): Updates weights using the gradient of the loss function on a single training example or a small batch. It's simple but can be slow and oscillate.\n",
        "\n",
        "Momentum: Accelerates SGD in the relevant direction and dampens oscillations. It adds a fraction of the update vector of the past time step to the current update.\n",
        "\n",
        "Adagrad (Adaptive Gradient): Adapts the learning rate to the parameters, performing larger updates for infrequent parameters and smaller updates for frequent parameters. Tends to decay learning rates too aggressively.\n",
        "\n",
        "RMSprop (Root Mean Square Propagation): Addresses Adagrad's aggressively decaying learning rate by using a moving average of squared gradients.\n",
        "\n",
        "Adam (Adaptive Moment Estimation): Combines the ideas of Momentum and RMSprop. It calculates adaptive learning rates for each parameter and also stores an exponentially decaying average of past gradients and squared gradients. It's often the default choice due to its effectiveness.\n",
        "\n",
        "12. Can you explain forward and backward propagation in a neural network?\n",
        "\n",
        "Forward Propagation: This is the process of feeding input data through the neural network to generate an output prediction. Input features are passed to the input layer, then multiplied by weights, summed with biases, and passed through activation functions in each subsequent layer until an output is produced by the output layer.\n",
        "\n",
        "Backward Propagation (Backpropagation): This is the algorithm used to efficiently calculate the gradients of the loss function with respect to every weight and bias in the network. It starts by calculating the error at the output layer and then propagates this error backward through the network, layer by layer, using the chain rule of calculus. This allows the network to determine how much each parameter contributed to the overall error, enabling the optimizer to adjust them.\n",
        "\n",
        "13. What is weight initialization, and how does it impact training?\n",
        "Weight initialization is the process of setting the initial values for the weights in a neural network before training begins. It significantly impacts training:\n",
        "\n",
        "Too small weights: Can lead to vanishing gradients, where gradients become extremely small, making learning very slow or impossible in deep networks.\n",
        "\n",
        "Too large weights: Can lead to exploding gradients, where gradients become extremely large, causing unstable training and numerical overflow.\n",
        "\n",
        "Poor initialization: Can cause the network to get stuck in local minima or saddle points, leading to suboptimal performance.\n",
        "Good initialization strategies (e.g., Xavier/Glorot, He initialization) aim to keep the variance of the activations and gradients roughly constant across all layers, promoting stable and efficient training.\n",
        "\n",
        "14. What is the vanishing gradient problem in deep learning?\n",
        "\n",
        "The vanishing gradient problem occurs in deep neural networks, especially with activation functions like sigmoid or tanh. During backpropagation, gradients are calculated by multiplying derivatives through layers. If these derivatives are small (e.g., in the saturated regions of sigmoid/tanh), repeated multiplication over many layers causes the gradients to shrink exponentially as they propagate backward. This means that weights in earlier layers receive very small updates, making them learn extremely slowly or effectively stop learning altogether.\n",
        "\n",
        "15. What is the exploding gradient problem?\n",
        "\n",
        "The exploding gradient problem is the opposite of the vanishing gradient problem. It occurs when gradients become extremely large during backpropagation, leading to very large updates to the network weights. This can cause the model to become unstable, oscillate wildly, or even diverge (weights become NaN or inf). It's more common in RNNs and can be mitigated by techniques like gradient clipping."
      ],
      "metadata": {
        "id": "VrD_AYzyTOlC"
      }
    },
    {
      "cell_type": "markdown",
      "source": [
        "Practicle"
      ],
      "metadata": {
        "id": "wlgZijb0ZJIF"
      }
    },
    {
      "cell_type": "code",
      "execution_count": 2,
      "metadata": {
        "colab": {
          "base_uri": "https://localhost:8080/",
          "height": 1000
        },
        "id": "ZjuWqBHgSh3T",
        "outputId": "5c27130a-c3b2-4ce2-8e8c-fdf29c6a5de2"
      },
      "outputs": [
        {
          "output_type": "stream",
          "name": "stdout",
          "text": [
            "All required Python libraries are already installed.\n",
            "\n",
            "--- Setup Complete ---\n",
            "Synthetic dataset created and scaled for practical examples.\n",
            "X_train shape: (800, 20), y_train shape: (800,)\n",
            "X_test shape: (200, 20), y_test shape: (200,)\n",
            "\n",
            "--- Practical Question 1: Simple Perceptron ---\n",
            "Training Simple Perceptron for 100 epochs...\n",
            "Epoch 10/100, Errors: 436\n",
            "Epoch 20/100, Errors: 420\n",
            "Epoch 30/100, Errors: 420\n",
            "Epoch 40/100, Errors: 427\n",
            "Epoch 50/100, Errors: 422\n",
            "Epoch 60/100, Errors: 431\n",
            "Epoch 70/100, Errors: 421\n",
            "Epoch 80/100, Errors: 431\n",
            "Epoch 90/100, Errors: 429\n",
            "Epoch 100/100, Errors: 413\n",
            "Perceptron Test Accuracy: 0.4600\n",
            "\n",
            "--- Practical Question 2: NN with One Hidden Layer (Keras) ---\n"
          ]
        },
        {
          "output_type": "display_data",
          "data": {
            "text/plain": [
              "\u001b[1mModel: \"sequential\"\u001b[0m\n"
            ],
            "text/html": [
              "<pre style=\"white-space:pre;overflow-x:auto;line-height:normal;font-family:Menlo,'DejaVu Sans Mono',consolas,'Courier New',monospace\"><span style=\"font-weight: bold\">Model: \"sequential\"</span>\n",
              "</pre>\n"
            ]
          },
          "metadata": {}
        },
        {
          "output_type": "display_data",
          "data": {
            "text/plain": [
              "┏━━━━━━━━━━━━━━━━━━━━━━━━━━━━━━━━━┳━━━━━━━━━━━━━━━━━━━━━━━━┳━━━━━━━━━━━━━━━┓\n",
              "┃\u001b[1m \u001b[0m\u001b[1mLayer (type)                   \u001b[0m\u001b[1m \u001b[0m┃\u001b[1m \u001b[0m\u001b[1mOutput Shape          \u001b[0m\u001b[1m \u001b[0m┃\u001b[1m \u001b[0m\u001b[1m      Param #\u001b[0m\u001b[1m \u001b[0m┃\n",
              "┡━━━━━━━━━━━━━━━━━━━━━━━━━━━━━━━━━╇━━━━━━━━━━━━━━━━━━━━━━━━╇━━━━━━━━━━━━━━━┩\n",
              "│ hidden_layer_1 (\u001b[38;5;33mDense\u001b[0m)          │ (\u001b[38;5;45mNone\u001b[0m, \u001b[38;5;34m64\u001b[0m)             │         \u001b[38;5;34m1,344\u001b[0m │\n",
              "├─────────────────────────────────┼────────────────────────┼───────────────┤\n",
              "│ output_layer (\u001b[38;5;33mDense\u001b[0m)            │ (\u001b[38;5;45mNone\u001b[0m, \u001b[38;5;34m1\u001b[0m)              │            \u001b[38;5;34m65\u001b[0m │\n",
              "└─────────────────────────────────┴────────────────────────┴───────────────┘\n"
            ],
            "text/html": [
              "<pre style=\"white-space:pre;overflow-x:auto;line-height:normal;font-family:Menlo,'DejaVu Sans Mono',consolas,'Courier New',monospace\">┏━━━━━━━━━━━━━━━━━━━━━━━━━━━━━━━━━┳━━━━━━━━━━━━━━━━━━━━━━━━┳━━━━━━━━━━━━━━━┓\n",
              "┃<span style=\"font-weight: bold\"> Layer (type)                    </span>┃<span style=\"font-weight: bold\"> Output Shape           </span>┃<span style=\"font-weight: bold\">       Param # </span>┃\n",
              "┡━━━━━━━━━━━━━━━━━━━━━━━━━━━━━━━━━╇━━━━━━━━━━━━━━━━━━━━━━━━╇━━━━━━━━━━━━━━━┩\n",
              "│ hidden_layer_1 (<span style=\"color: #0087ff; text-decoration-color: #0087ff\">Dense</span>)          │ (<span style=\"color: #00d7ff; text-decoration-color: #00d7ff\">None</span>, <span style=\"color: #00af00; text-decoration-color: #00af00\">64</span>)             │         <span style=\"color: #00af00; text-decoration-color: #00af00\">1,344</span> │\n",
              "├─────────────────────────────────┼────────────────────────┼───────────────┤\n",
              "│ output_layer (<span style=\"color: #0087ff; text-decoration-color: #0087ff\">Dense</span>)            │ (<span style=\"color: #00d7ff; text-decoration-color: #00d7ff\">None</span>, <span style=\"color: #00af00; text-decoration-color: #00af00\">1</span>)              │            <span style=\"color: #00af00; text-decoration-color: #00af00\">65</span> │\n",
              "└─────────────────────────────────┴────────────────────────┴───────────────┘\n",
              "</pre>\n"
            ]
          },
          "metadata": {}
        },
        {
          "output_type": "display_data",
          "data": {
            "text/plain": [
              "\u001b[1m Total params: \u001b[0m\u001b[38;5;34m1,409\u001b[0m (5.50 KB)\n"
            ],
            "text/html": [
              "<pre style=\"white-space:pre;overflow-x:auto;line-height:normal;font-family:Menlo,'DejaVu Sans Mono',consolas,'Courier New',monospace\"><span style=\"font-weight: bold\"> Total params: </span><span style=\"color: #00af00; text-decoration-color: #00af00\">1,409</span> (5.50 KB)\n",
              "</pre>\n"
            ]
          },
          "metadata": {}
        },
        {
          "output_type": "display_data",
          "data": {
            "text/plain": [
              "\u001b[1m Trainable params: \u001b[0m\u001b[38;5;34m1,409\u001b[0m (5.50 KB)\n"
            ],
            "text/html": [
              "<pre style=\"white-space:pre;overflow-x:auto;line-height:normal;font-family:Menlo,'DejaVu Sans Mono',consolas,'Courier New',monospace\"><span style=\"font-weight: bold\"> Trainable params: </span><span style=\"color: #00af00; text-decoration-color: #00af00\">1,409</span> (5.50 KB)\n",
              "</pre>\n"
            ]
          },
          "metadata": {}
        },
        {
          "output_type": "display_data",
          "data": {
            "text/plain": [
              "\u001b[1m Non-trainable params: \u001b[0m\u001b[38;5;34m0\u001b[0m (0.00 B)\n"
            ],
            "text/html": [
              "<pre style=\"white-space:pre;overflow-x:auto;line-height:normal;font-family:Menlo,'DejaVu Sans Mono',consolas,'Courier New',monospace\"><span style=\"font-weight: bold\"> Non-trainable params: </span><span style=\"color: #00af00; text-decoration-color: #00af00\">0</span> (0.00 B)\n",
              "</pre>\n"
            ]
          },
          "metadata": {}
        },
        {
          "output_type": "stream",
          "name": "stdout",
          "text": [
            "Model with One Hidden Layer Test Loss: 0.2757\n",
            "Model with One Hidden Layer Test Accuracy: 0.9150\n",
            "\n",
            "--- Practical Question 3: Xavier (Glorot) Initialization (Keras) ---\n"
          ]
        },
        {
          "output_type": "display_data",
          "data": {
            "text/plain": [
              "\u001b[1mModel: \"sequential_1\"\u001b[0m\n"
            ],
            "text/html": [
              "<pre style=\"white-space:pre;overflow-x:auto;line-height:normal;font-family:Menlo,'DejaVu Sans Mono',consolas,'Courier New',monospace\"><span style=\"font-weight: bold\">Model: \"sequential_1\"</span>\n",
              "</pre>\n"
            ]
          },
          "metadata": {}
        },
        {
          "output_type": "display_data",
          "data": {
            "text/plain": [
              "┏━━━━━━━━━━━━━━━━━━━━━━━━━━━━━━━━━┳━━━━━━━━━━━━━━━━━━━━━━━━┳━━━━━━━━━━━━━━━┓\n",
              "┃\u001b[1m \u001b[0m\u001b[1mLayer (type)                   \u001b[0m\u001b[1m \u001b[0m┃\u001b[1m \u001b[0m\u001b[1mOutput Shape          \u001b[0m\u001b[1m \u001b[0m┃\u001b[1m \u001b[0m\u001b[1m      Param #\u001b[0m\u001b[1m \u001b[0m┃\n",
              "┡━━━━━━━━━━━━━━━━━━━━━━━━━━━━━━━━━╇━━━━━━━━━━━━━━━━━━━━━━━━╇━━━━━━━━━━━━━━━┩\n",
              "│ hidden_layer_glorot (\u001b[38;5;33mDense\u001b[0m)     │ (\u001b[38;5;45mNone\u001b[0m, \u001b[38;5;34m64\u001b[0m)             │         \u001b[38;5;34m1,344\u001b[0m │\n",
              "├─────────────────────────────────┼────────────────────────┼───────────────┤\n",
              "│ output_layer_glorot (\u001b[38;5;33mDense\u001b[0m)     │ (\u001b[38;5;45mNone\u001b[0m, \u001b[38;5;34m1\u001b[0m)              │            \u001b[38;5;34m65\u001b[0m │\n",
              "└─────────────────────────────────┴────────────────────────┴───────────────┘\n"
            ],
            "text/html": [
              "<pre style=\"white-space:pre;overflow-x:auto;line-height:normal;font-family:Menlo,'DejaVu Sans Mono',consolas,'Courier New',monospace\">┏━━━━━━━━━━━━━━━━━━━━━━━━━━━━━━━━━┳━━━━━━━━━━━━━━━━━━━━━━━━┳━━━━━━━━━━━━━━━┓\n",
              "┃<span style=\"font-weight: bold\"> Layer (type)                    </span>┃<span style=\"font-weight: bold\"> Output Shape           </span>┃<span style=\"font-weight: bold\">       Param # </span>┃\n",
              "┡━━━━━━━━━━━━━━━━━━━━━━━━━━━━━━━━━╇━━━━━━━━━━━━━━━━━━━━━━━━╇━━━━━━━━━━━━━━━┩\n",
              "│ hidden_layer_glorot (<span style=\"color: #0087ff; text-decoration-color: #0087ff\">Dense</span>)     │ (<span style=\"color: #00d7ff; text-decoration-color: #00d7ff\">None</span>, <span style=\"color: #00af00; text-decoration-color: #00af00\">64</span>)             │         <span style=\"color: #00af00; text-decoration-color: #00af00\">1,344</span> │\n",
              "├─────────────────────────────────┼────────────────────────┼───────────────┤\n",
              "│ output_layer_glorot (<span style=\"color: #0087ff; text-decoration-color: #0087ff\">Dense</span>)     │ (<span style=\"color: #00d7ff; text-decoration-color: #00d7ff\">None</span>, <span style=\"color: #00af00; text-decoration-color: #00af00\">1</span>)              │            <span style=\"color: #00af00; text-decoration-color: #00af00\">65</span> │\n",
              "└─────────────────────────────────┴────────────────────────┴───────────────┘\n",
              "</pre>\n"
            ]
          },
          "metadata": {}
        },
        {
          "output_type": "display_data",
          "data": {
            "text/plain": [
              "\u001b[1m Total params: \u001b[0m\u001b[38;5;34m1,409\u001b[0m (5.50 KB)\n"
            ],
            "text/html": [
              "<pre style=\"white-space:pre;overflow-x:auto;line-height:normal;font-family:Menlo,'DejaVu Sans Mono',consolas,'Courier New',monospace\"><span style=\"font-weight: bold\"> Total params: </span><span style=\"color: #00af00; text-decoration-color: #00af00\">1,409</span> (5.50 KB)\n",
              "</pre>\n"
            ]
          },
          "metadata": {}
        },
        {
          "output_type": "display_data",
          "data": {
            "text/plain": [
              "\u001b[1m Trainable params: \u001b[0m\u001b[38;5;34m1,409\u001b[0m (5.50 KB)\n"
            ],
            "text/html": [
              "<pre style=\"white-space:pre;overflow-x:auto;line-height:normal;font-family:Menlo,'DejaVu Sans Mono',consolas,'Courier New',monospace\"><span style=\"font-weight: bold\"> Trainable params: </span><span style=\"color: #00af00; text-decoration-color: #00af00\">1,409</span> (5.50 KB)\n",
              "</pre>\n"
            ]
          },
          "metadata": {}
        },
        {
          "output_type": "display_data",
          "data": {
            "text/plain": [
              "\u001b[1m Non-trainable params: \u001b[0m\u001b[38;5;34m0\u001b[0m (0.00 B)\n"
            ],
            "text/html": [
              "<pre style=\"white-space:pre;overflow-x:auto;line-height:normal;font-family:Menlo,'DejaVu Sans Mono',consolas,'Courier New',monospace\"><span style=\"font-weight: bold\"> Non-trainable params: </span><span style=\"color: #00af00; text-decoration-color: #00af00\">0</span> (0.00 B)\n",
              "</pre>\n"
            ]
          },
          "metadata": {}
        },
        {
          "output_type": "stream",
          "name": "stdout",
          "text": [
            "\n",
            "Weights initialized using Glorot (Xavier) initialization in Keras.\n",
            "This is often the default for ReLU and Tanh activations, but can be specified explicitly.\n",
            "\n",
            "--- Practical Question 4: Different Activation Functions (Keras) ---\n"
          ]
        },
        {
          "output_type": "display_data",
          "data": {
            "text/plain": [
              "\u001b[1mModel: \"sequential_2\"\u001b[0m\n"
            ],
            "text/html": [
              "<pre style=\"white-space:pre;overflow-x:auto;line-height:normal;font-family:Menlo,'DejaVu Sans Mono',consolas,'Courier New',monospace\"><span style=\"font-weight: bold\">Model: \"sequential_2\"</span>\n",
              "</pre>\n"
            ]
          },
          "metadata": {}
        },
        {
          "output_type": "display_data",
          "data": {
            "text/plain": [
              "┏━━━━━━━━━━━━━━━━━━━━━━━━━━━━━━━━━┳━━━━━━━━━━━━━━━━━━━━━━━━┳━━━━━━━━━━━━━━━┓\n",
              "┃\u001b[1m \u001b[0m\u001b[1mLayer (type)                   \u001b[0m\u001b[1m \u001b[0m┃\u001b[1m \u001b[0m\u001b[1mOutput Shape          \u001b[0m\u001b[1m \u001b[0m┃\u001b[1m \u001b[0m\u001b[1m      Param #\u001b[0m\u001b[1m \u001b[0m┃\n",
              "┡━━━━━━━━━━━━━━━━━━━━━━━━━━━━━━━━━╇━━━━━━━━━━━━━━━━━━━━━━━━╇━━━━━━━━━━━━━━━┩\n",
              "│ hidden_relu (\u001b[38;5;33mDense\u001b[0m)             │ (\u001b[38;5;45mNone\u001b[0m, \u001b[38;5;34m128\u001b[0m)            │         \u001b[38;5;34m2,688\u001b[0m │\n",
              "├─────────────────────────────────┼────────────────────────┼───────────────┤\n",
              "│ hidden_tanh (\u001b[38;5;33mDense\u001b[0m)             │ (\u001b[38;5;45mNone\u001b[0m, \u001b[38;5;34m64\u001b[0m)             │         \u001b[38;5;34m8,256\u001b[0m │\n",
              "├─────────────────────────────────┼────────────────────────┼───────────────┤\n",
              "│ hidden_sigmoid (\u001b[38;5;33mDense\u001b[0m)          │ (\u001b[38;5;45mNone\u001b[0m, \u001b[38;5;34m32\u001b[0m)             │         \u001b[38;5;34m2,080\u001b[0m │\n",
              "├─────────────────────────────────┼────────────────────────┼───────────────┤\n",
              "│ output_sigmoid_binary (\u001b[38;5;33mDense\u001b[0m)   │ (\u001b[38;5;45mNone\u001b[0m, \u001b[38;5;34m1\u001b[0m)              │            \u001b[38;5;34m33\u001b[0m │\n",
              "└─────────────────────────────────┴────────────────────────┴───────────────┘\n"
            ],
            "text/html": [
              "<pre style=\"white-space:pre;overflow-x:auto;line-height:normal;font-family:Menlo,'DejaVu Sans Mono',consolas,'Courier New',monospace\">┏━━━━━━━━━━━━━━━━━━━━━━━━━━━━━━━━━┳━━━━━━━━━━━━━━━━━━━━━━━━┳━━━━━━━━━━━━━━━┓\n",
              "┃<span style=\"font-weight: bold\"> Layer (type)                    </span>┃<span style=\"font-weight: bold\"> Output Shape           </span>┃<span style=\"font-weight: bold\">       Param # </span>┃\n",
              "┡━━━━━━━━━━━━━━━━━━━━━━━━━━━━━━━━━╇━━━━━━━━━━━━━━━━━━━━━━━━╇━━━━━━━━━━━━━━━┩\n",
              "│ hidden_relu (<span style=\"color: #0087ff; text-decoration-color: #0087ff\">Dense</span>)             │ (<span style=\"color: #00d7ff; text-decoration-color: #00d7ff\">None</span>, <span style=\"color: #00af00; text-decoration-color: #00af00\">128</span>)            │         <span style=\"color: #00af00; text-decoration-color: #00af00\">2,688</span> │\n",
              "├─────────────────────────────────┼────────────────────────┼───────────────┤\n",
              "│ hidden_tanh (<span style=\"color: #0087ff; text-decoration-color: #0087ff\">Dense</span>)             │ (<span style=\"color: #00d7ff; text-decoration-color: #00d7ff\">None</span>, <span style=\"color: #00af00; text-decoration-color: #00af00\">64</span>)             │         <span style=\"color: #00af00; text-decoration-color: #00af00\">8,256</span> │\n",
              "├─────────────────────────────────┼────────────────────────┼───────────────┤\n",
              "│ hidden_sigmoid (<span style=\"color: #0087ff; text-decoration-color: #0087ff\">Dense</span>)          │ (<span style=\"color: #00d7ff; text-decoration-color: #00d7ff\">None</span>, <span style=\"color: #00af00; text-decoration-color: #00af00\">32</span>)             │         <span style=\"color: #00af00; text-decoration-color: #00af00\">2,080</span> │\n",
              "├─────────────────────────────────┼────────────────────────┼───────────────┤\n",
              "│ output_sigmoid_binary (<span style=\"color: #0087ff; text-decoration-color: #0087ff\">Dense</span>)   │ (<span style=\"color: #00d7ff; text-decoration-color: #00d7ff\">None</span>, <span style=\"color: #00af00; text-decoration-color: #00af00\">1</span>)              │            <span style=\"color: #00af00; text-decoration-color: #00af00\">33</span> │\n",
              "└─────────────────────────────────┴────────────────────────┴───────────────┘\n",
              "</pre>\n"
            ]
          },
          "metadata": {}
        },
        {
          "output_type": "display_data",
          "data": {
            "text/plain": [
              "\u001b[1m Total params: \u001b[0m\u001b[38;5;34m13,057\u001b[0m (51.00 KB)\n"
            ],
            "text/html": [
              "<pre style=\"white-space:pre;overflow-x:auto;line-height:normal;font-family:Menlo,'DejaVu Sans Mono',consolas,'Courier New',monospace\"><span style=\"font-weight: bold\"> Total params: </span><span style=\"color: #00af00; text-decoration-color: #00af00\">13,057</span> (51.00 KB)\n",
              "</pre>\n"
            ]
          },
          "metadata": {}
        },
        {
          "output_type": "display_data",
          "data": {
            "text/plain": [
              "\u001b[1m Trainable params: \u001b[0m\u001b[38;5;34m13,057\u001b[0m (51.00 KB)\n"
            ],
            "text/html": [
              "<pre style=\"white-space:pre;overflow-x:auto;line-height:normal;font-family:Menlo,'DejaVu Sans Mono',consolas,'Courier New',monospace\"><span style=\"font-weight: bold\"> Trainable params: </span><span style=\"color: #00af00; text-decoration-color: #00af00\">13,057</span> (51.00 KB)\n",
              "</pre>\n"
            ]
          },
          "metadata": {}
        },
        {
          "output_type": "display_data",
          "data": {
            "text/plain": [
              "\u001b[1m Non-trainable params: \u001b[0m\u001b[38;5;34m0\u001b[0m (0.00 B)\n"
            ],
            "text/html": [
              "<pre style=\"white-space:pre;overflow-x:auto;line-height:normal;font-family:Menlo,'DejaVu Sans Mono',consolas,'Courier New',monospace\"><span style=\"font-weight: bold\"> Non-trainable params: </span><span style=\"color: #00af00; text-decoration-color: #00af00\">0</span> (0.00 B)\n",
              "</pre>\n"
            ]
          },
          "metadata": {}
        },
        {
          "output_type": "stream",
          "name": "stdout",
          "text": [
            "\n",
            "Model built with different activation functions (ReLU, Tanh, Sigmoid).\n",
            "\n",
            "--- Practical Question 5: Adding Dropout (Keras) ---\n"
          ]
        },
        {
          "output_type": "display_data",
          "data": {
            "text/plain": [
              "\u001b[1mModel: \"sequential_3\"\u001b[0m\n"
            ],
            "text/html": [
              "<pre style=\"white-space:pre;overflow-x:auto;line-height:normal;font-family:Menlo,'DejaVu Sans Mono',consolas,'Courier New',monospace\"><span style=\"font-weight: bold\">Model: \"sequential_3\"</span>\n",
              "</pre>\n"
            ]
          },
          "metadata": {}
        },
        {
          "output_type": "display_data",
          "data": {
            "text/plain": [
              "┏━━━━━━━━━━━━━━━━━━━━━━━━━━━━━━━━━┳━━━━━━━━━━━━━━━━━━━━━━━━┳━━━━━━━━━━━━━━━┓\n",
              "┃\u001b[1m \u001b[0m\u001b[1mLayer (type)                   \u001b[0m\u001b[1m \u001b[0m┃\u001b[1m \u001b[0m\u001b[1mOutput Shape          \u001b[0m\u001b[1m \u001b[0m┃\u001b[1m \u001b[0m\u001b[1m      Param #\u001b[0m\u001b[1m \u001b[0m┃\n",
              "┡━━━━━━━━━━━━━━━━━━━━━━━━━━━━━━━━━╇━━━━━━━━━━━━━━━━━━━━━━━━╇━━━━━━━━━━━━━━━┩\n",
              "│ dense_1 (\u001b[38;5;33mDense\u001b[0m)                 │ (\u001b[38;5;45mNone\u001b[0m, \u001b[38;5;34m128\u001b[0m)            │         \u001b[38;5;34m2,688\u001b[0m │\n",
              "├─────────────────────────────────┼────────────────────────┼───────────────┤\n",
              "│ dropout_1 (\u001b[38;5;33mDropout\u001b[0m)             │ (\u001b[38;5;45mNone\u001b[0m, \u001b[38;5;34m128\u001b[0m)            │             \u001b[38;5;34m0\u001b[0m │\n",
              "├─────────────────────────────────┼────────────────────────┼───────────────┤\n",
              "│ dense_2 (\u001b[38;5;33mDense\u001b[0m)                 │ (\u001b[38;5;45mNone\u001b[0m, \u001b[38;5;34m64\u001b[0m)             │         \u001b[38;5;34m8,256\u001b[0m │\n",
              "├─────────────────────────────────┼────────────────────────┼───────────────┤\n",
              "│ dropout_2 (\u001b[38;5;33mDropout\u001b[0m)             │ (\u001b[38;5;45mNone\u001b[0m, \u001b[38;5;34m64\u001b[0m)             │             \u001b[38;5;34m0\u001b[0m │\n",
              "├─────────────────────────────────┼────────────────────────┼───────────────┤\n",
              "│ output_layer_dropout (\u001b[38;5;33mDense\u001b[0m)    │ (\u001b[38;5;45mNone\u001b[0m, \u001b[38;5;34m1\u001b[0m)              │            \u001b[38;5;34m65\u001b[0m │\n",
              "└─────────────────────────────────┴────────────────────────┴───────────────┘\n"
            ],
            "text/html": [
              "<pre style=\"white-space:pre;overflow-x:auto;line-height:normal;font-family:Menlo,'DejaVu Sans Mono',consolas,'Courier New',monospace\">┏━━━━━━━━━━━━━━━━━━━━━━━━━━━━━━━━━┳━━━━━━━━━━━━━━━━━━━━━━━━┳━━━━━━━━━━━━━━━┓\n",
              "┃<span style=\"font-weight: bold\"> Layer (type)                    </span>┃<span style=\"font-weight: bold\"> Output Shape           </span>┃<span style=\"font-weight: bold\">       Param # </span>┃\n",
              "┡━━━━━━━━━━━━━━━━━━━━━━━━━━━━━━━━━╇━━━━━━━━━━━━━━━━━━━━━━━━╇━━━━━━━━━━━━━━━┩\n",
              "│ dense_1 (<span style=\"color: #0087ff; text-decoration-color: #0087ff\">Dense</span>)                 │ (<span style=\"color: #00d7ff; text-decoration-color: #00d7ff\">None</span>, <span style=\"color: #00af00; text-decoration-color: #00af00\">128</span>)            │         <span style=\"color: #00af00; text-decoration-color: #00af00\">2,688</span> │\n",
              "├─────────────────────────────────┼────────────────────────┼───────────────┤\n",
              "│ dropout_1 (<span style=\"color: #0087ff; text-decoration-color: #0087ff\">Dropout</span>)             │ (<span style=\"color: #00d7ff; text-decoration-color: #00d7ff\">None</span>, <span style=\"color: #00af00; text-decoration-color: #00af00\">128</span>)            │             <span style=\"color: #00af00; text-decoration-color: #00af00\">0</span> │\n",
              "├─────────────────────────────────┼────────────────────────┼───────────────┤\n",
              "│ dense_2 (<span style=\"color: #0087ff; text-decoration-color: #0087ff\">Dense</span>)                 │ (<span style=\"color: #00d7ff; text-decoration-color: #00d7ff\">None</span>, <span style=\"color: #00af00; text-decoration-color: #00af00\">64</span>)             │         <span style=\"color: #00af00; text-decoration-color: #00af00\">8,256</span> │\n",
              "├─────────────────────────────────┼────────────────────────┼───────────────┤\n",
              "│ dropout_2 (<span style=\"color: #0087ff; text-decoration-color: #0087ff\">Dropout</span>)             │ (<span style=\"color: #00d7ff; text-decoration-color: #00d7ff\">None</span>, <span style=\"color: #00af00; text-decoration-color: #00af00\">64</span>)             │             <span style=\"color: #00af00; text-decoration-color: #00af00\">0</span> │\n",
              "├─────────────────────────────────┼────────────────────────┼───────────────┤\n",
              "│ output_layer_dropout (<span style=\"color: #0087ff; text-decoration-color: #0087ff\">Dense</span>)    │ (<span style=\"color: #00d7ff; text-decoration-color: #00d7ff\">None</span>, <span style=\"color: #00af00; text-decoration-color: #00af00\">1</span>)              │            <span style=\"color: #00af00; text-decoration-color: #00af00\">65</span> │\n",
              "└─────────────────────────────────┴────────────────────────┴───────────────┘\n",
              "</pre>\n"
            ]
          },
          "metadata": {}
        },
        {
          "output_type": "display_data",
          "data": {
            "text/plain": [
              "\u001b[1m Total params: \u001b[0m\u001b[38;5;34m11,009\u001b[0m (43.00 KB)\n"
            ],
            "text/html": [
              "<pre style=\"white-space:pre;overflow-x:auto;line-height:normal;font-family:Menlo,'DejaVu Sans Mono',consolas,'Courier New',monospace\"><span style=\"font-weight: bold\"> Total params: </span><span style=\"color: #00af00; text-decoration-color: #00af00\">11,009</span> (43.00 KB)\n",
              "</pre>\n"
            ]
          },
          "metadata": {}
        },
        {
          "output_type": "display_data",
          "data": {
            "text/plain": [
              "\u001b[1m Trainable params: \u001b[0m\u001b[38;5;34m11,009\u001b[0m (43.00 KB)\n"
            ],
            "text/html": [
              "<pre style=\"white-space:pre;overflow-x:auto;line-height:normal;font-family:Menlo,'DejaVu Sans Mono',consolas,'Courier New',monospace\"><span style=\"font-weight: bold\"> Trainable params: </span><span style=\"color: #00af00; text-decoration-color: #00af00\">11,009</span> (43.00 KB)\n",
              "</pre>\n"
            ]
          },
          "metadata": {}
        },
        {
          "output_type": "display_data",
          "data": {
            "text/plain": [
              "\u001b[1m Non-trainable params: \u001b[0m\u001b[38;5;34m0\u001b[0m (0.00 B)\n"
            ],
            "text/html": [
              "<pre style=\"white-space:pre;overflow-x:auto;line-height:normal;font-family:Menlo,'DejaVu Sans Mono',consolas,'Courier New',monospace\"><span style=\"font-weight: bold\"> Non-trainable params: </span><span style=\"color: #00af00; text-decoration-color: #00af00\">0</span> (0.00 B)\n",
              "</pre>\n"
            ]
          },
          "metadata": {}
        },
        {
          "output_type": "stream",
          "name": "stdout",
          "text": [
            "\n",
            "Dropout layers added to the model to help prevent overfitting.\n",
            "The dropout rate (e.g., 0.3 means 30% of neurons are randomly set to zero) is a hyperparameter.\n",
            "\n",
            "--- Practical Question 6: Manual Forward Propagation ---\n",
            "Sample Input: [[0.5 0.2 0.8]]\n",
            "Manually Calculated Prediction: 0.4950\n",
            "\n",
            "--- Question 7: Adding Batch Normalization (Keras) ---\n"
          ]
        },
        {
          "output_type": "display_data",
          "data": {
            "text/plain": [
              "\u001b[1mModel: \"sequential_4\"\u001b[0m\n"
            ],
            "text/html": [
              "<pre style=\"white-space:pre;overflow-x:auto;line-height:normal;font-family:Menlo,'DejaVu Sans Mono',consolas,'Courier New',monospace\"><span style=\"font-weight: bold\">Model: \"sequential_4\"</span>\n",
              "</pre>\n"
            ]
          },
          "metadata": {}
        },
        {
          "output_type": "display_data",
          "data": {
            "text/plain": [
              "┏━━━━━━━━━━━━━━━━━━━━━━━━━━━━━━━━━┳━━━━━━━━━━━━━━━━━━━━━━━━┳━━━━━━━━━━━━━━━┓\n",
              "┃\u001b[1m \u001b[0m\u001b[1mLayer (type)                   \u001b[0m\u001b[1m \u001b[0m┃\u001b[1m \u001b[0m\u001b[1mOutput Shape          \u001b[0m\u001b[1m \u001b[0m┃\u001b[1m \u001b[0m\u001b[1m      Param #\u001b[0m\u001b[1m \u001b[0m┃\n",
              "┡━━━━━━━━━━━━━━━━━━━━━━━━━━━━━━━━━╇━━━━━━━━━━━━━━━━━━━━━━━━╇━━━━━━━━━━━━━━━┩\n",
              "│ dense_bn_1 (\u001b[38;5;33mDense\u001b[0m)              │ (\u001b[38;5;45mNone\u001b[0m, \u001b[38;5;34m128\u001b[0m)            │         \u001b[38;5;34m2,688\u001b[0m │\n",
              "├─────────────────────────────────┼────────────────────────┼───────────────┤\n",
              "│ batchnorm_1                     │ (\u001b[38;5;45mNone\u001b[0m, \u001b[38;5;34m128\u001b[0m)            │           \u001b[38;5;34m512\u001b[0m │\n",
              "│ (\u001b[38;5;33mBatchNormalization\u001b[0m)            │                        │               │\n",
              "├─────────────────────────────────┼────────────────────────┼───────────────┤\n",
              "│ activation_1 (\u001b[38;5;33mActivation\u001b[0m)       │ (\u001b[38;5;45mNone\u001b[0m, \u001b[38;5;34m128\u001b[0m)            │             \u001b[38;5;34m0\u001b[0m │\n",
              "├─────────────────────────────────┼────────────────────────┼───────────────┤\n",
              "│ dense_bn_2 (\u001b[38;5;33mDense\u001b[0m)              │ (\u001b[38;5;45mNone\u001b[0m, \u001b[38;5;34m64\u001b[0m)             │         \u001b[38;5;34m8,256\u001b[0m │\n",
              "├─────────────────────────────────┼────────────────────────┼───────────────┤\n",
              "│ batchnorm_2                     │ (\u001b[38;5;45mNone\u001b[0m, \u001b[38;5;34m64\u001b[0m)             │           \u001b[38;5;34m256\u001b[0m │\n",
              "│ (\u001b[38;5;33mBatchNormalization\u001b[0m)            │                        │               │\n",
              "├─────────────────────────────────┼────────────────────────┼───────────────┤\n",
              "│ activation_2 (\u001b[38;5;33mActivation\u001b[0m)       │ (\u001b[38;5;45mNone\u001b[0m, \u001b[38;5;34m64\u001b[0m)             │             \u001b[38;5;34m0\u001b[0m │\n",
              "├─────────────────────────────────┼────────────────────────┼───────────────┤\n",
              "│ output_layer_bn (\u001b[38;5;33mDense\u001b[0m)         │ (\u001b[38;5;45mNone\u001b[0m, \u001b[38;5;34m1\u001b[0m)              │            \u001b[38;5;34m65\u001b[0m │\n",
              "└─────────────────────────────────┴────────────────────────┴───────────────┘\n"
            ],
            "text/html": [
              "<pre style=\"white-space:pre;overflow-x:auto;line-height:normal;font-family:Menlo,'DejaVu Sans Mono',consolas,'Courier New',monospace\">┏━━━━━━━━━━━━━━━━━━━━━━━━━━━━━━━━━┳━━━━━━━━━━━━━━━━━━━━━━━━┳━━━━━━━━━━━━━━━┓\n",
              "┃<span style=\"font-weight: bold\"> Layer (type)                    </span>┃<span style=\"font-weight: bold\"> Output Shape           </span>┃<span style=\"font-weight: bold\">       Param # </span>┃\n",
              "┡━━━━━━━━━━━━━━━━━━━━━━━━━━━━━━━━━╇━━━━━━━━━━━━━━━━━━━━━━━━╇━━━━━━━━━━━━━━━┩\n",
              "│ dense_bn_1 (<span style=\"color: #0087ff; text-decoration-color: #0087ff\">Dense</span>)              │ (<span style=\"color: #00d7ff; text-decoration-color: #00d7ff\">None</span>, <span style=\"color: #00af00; text-decoration-color: #00af00\">128</span>)            │         <span style=\"color: #00af00; text-decoration-color: #00af00\">2,688</span> │\n",
              "├─────────────────────────────────┼────────────────────────┼───────────────┤\n",
              "│ batchnorm_1                     │ (<span style=\"color: #00d7ff; text-decoration-color: #00d7ff\">None</span>, <span style=\"color: #00af00; text-decoration-color: #00af00\">128</span>)            │           <span style=\"color: #00af00; text-decoration-color: #00af00\">512</span> │\n",
              "│ (<span style=\"color: #0087ff; text-decoration-color: #0087ff\">BatchNormalization</span>)            │                        │               │\n",
              "├─────────────────────────────────┼────────────────────────┼───────────────┤\n",
              "│ activation_1 (<span style=\"color: #0087ff; text-decoration-color: #0087ff\">Activation</span>)       │ (<span style=\"color: #00d7ff; text-decoration-color: #00d7ff\">None</span>, <span style=\"color: #00af00; text-decoration-color: #00af00\">128</span>)            │             <span style=\"color: #00af00; text-decoration-color: #00af00\">0</span> │\n",
              "├─────────────────────────────────┼────────────────────────┼───────────────┤\n",
              "│ dense_bn_2 (<span style=\"color: #0087ff; text-decoration-color: #0087ff\">Dense</span>)              │ (<span style=\"color: #00d7ff; text-decoration-color: #00d7ff\">None</span>, <span style=\"color: #00af00; text-decoration-color: #00af00\">64</span>)             │         <span style=\"color: #00af00; text-decoration-color: #00af00\">8,256</span> │\n",
              "├─────────────────────────────────┼────────────────────────┼───────────────┤\n",
              "│ batchnorm_2                     │ (<span style=\"color: #00d7ff; text-decoration-color: #00d7ff\">None</span>, <span style=\"color: #00af00; text-decoration-color: #00af00\">64</span>)             │           <span style=\"color: #00af00; text-decoration-color: #00af00\">256</span> │\n",
              "│ (<span style=\"color: #0087ff; text-decoration-color: #0087ff\">BatchNormalization</span>)            │                        │               │\n",
              "├─────────────────────────────────┼────────────────────────┼───────────────┤\n",
              "│ activation_2 (<span style=\"color: #0087ff; text-decoration-color: #0087ff\">Activation</span>)       │ (<span style=\"color: #00d7ff; text-decoration-color: #00d7ff\">None</span>, <span style=\"color: #00af00; text-decoration-color: #00af00\">64</span>)             │             <span style=\"color: #00af00; text-decoration-color: #00af00\">0</span> │\n",
              "├─────────────────────────────────┼────────────────────────┼───────────────┤\n",
              "│ output_layer_bn (<span style=\"color: #0087ff; text-decoration-color: #0087ff\">Dense</span>)         │ (<span style=\"color: #00d7ff; text-decoration-color: #00d7ff\">None</span>, <span style=\"color: #00af00; text-decoration-color: #00af00\">1</span>)              │            <span style=\"color: #00af00; text-decoration-color: #00af00\">65</span> │\n",
              "└─────────────────────────────────┴────────────────────────┴───────────────┘\n",
              "</pre>\n"
            ]
          },
          "metadata": {}
        },
        {
          "output_type": "display_data",
          "data": {
            "text/plain": [
              "\u001b[1m Total params: \u001b[0m\u001b[38;5;34m11,777\u001b[0m (46.00 KB)\n"
            ],
            "text/html": [
              "<pre style=\"white-space:pre;overflow-x:auto;line-height:normal;font-family:Menlo,'DejaVu Sans Mono',consolas,'Courier New',monospace\"><span style=\"font-weight: bold\"> Total params: </span><span style=\"color: #00af00; text-decoration-color: #00af00\">11,777</span> (46.00 KB)\n",
              "</pre>\n"
            ]
          },
          "metadata": {}
        },
        {
          "output_type": "display_data",
          "data": {
            "text/plain": [
              "\u001b[1m Trainable params: \u001b[0m\u001b[38;5;34m11,393\u001b[0m (44.50 KB)\n"
            ],
            "text/html": [
              "<pre style=\"white-space:pre;overflow-x:auto;line-height:normal;font-family:Menlo,'DejaVu Sans Mono',consolas,'Courier New',monospace\"><span style=\"font-weight: bold\"> Trainable params: </span><span style=\"color: #00af00; text-decoration-color: #00af00\">11,393</span> (44.50 KB)\n",
              "</pre>\n"
            ]
          },
          "metadata": {}
        },
        {
          "output_type": "display_data",
          "data": {
            "text/plain": [
              "\u001b[1m Non-trainable params: \u001b[0m\u001b[38;5;34m384\u001b[0m (1.50 KB)\n"
            ],
            "text/html": [
              "<pre style=\"white-space:pre;overflow-x:auto;line-height:normal;font-family:Menlo,'DejaVu Sans Mono',consolas,'Courier New',monospace\"><span style=\"font-weight: bold\"> Non-trainable params: </span><span style=\"color: #00af00; text-decoration-color: #00af00\">384</span> (1.50 KB)\n",
              "</pre>\n"
            ]
          },
          "metadata": {}
        },
        {
          "output_type": "stream",
          "name": "stdout",
          "text": [
            "\n",
            "Batch Normalization layers added to the model.\n",
            "Batch Norm helps stabilize and accelerate training by normalizing inputs to layers.\n",
            "\n",
            "--- Question 8: Visualize Training Process ---\n"
          ]
        },
        {
          "output_type": "display_data",
          "data": {
            "text/plain": [
              "<Figure size 1200x500 with 2 Axes>"
            ],
            "image/png": "[encoded data removed]"
          },
          "metadata": {}
        },
        {
          "output_type": "stream",
          "name": "stdout",
          "text": [
            "\n",
            "Training and validation accuracy/loss curves plotted above.\n",
            "\n",
            "--- Question 9: Gradient Clipping (Keras) ---\n"
          ]
        },
        {
          "output_type": "display_data",
          "data": {
            "text/plain": [
              "\u001b[1mModel: \"sequential_6\"\u001b[0m\n"
            ],
            "text/html": [
              "<pre style=\"white-space:pre;overflow-x:auto;line-height:normal;font-family:Menlo,'DejaVu Sans Mono',consolas,'Courier New',monospace\"><span style=\"font-weight: bold\">Model: \"sequential_6\"</span>\n",
              "</pre>\n"
            ]
          },
          "metadata": {}
        },
        {
          "output_type": "display_data",
          "data": {
            "text/plain": [
              "┏━━━━━━━━━━━━━━━━━━━━━━━━━━━━━━━━━┳━━━━━━━━━━━━━━━━━━━━━━━━┳━━━━━━━━━━━━━━━┓\n",
              "┃\u001b[1m \u001b[0m\u001b[1mLayer (type)                   \u001b[0m\u001b[1m \u001b[0m┃\u001b[1m \u001b[0m\u001b[1mOutput Shape          \u001b[0m\u001b[1m \u001b[0m┃\u001b[1m \u001b[0m\u001b[1m      Param #\u001b[0m\u001b[1m \u001b[0m┃\n",
              "┡━━━━━━━━━━━━━━━━━━━━━━━━━━━━━━━━━╇━━━━━━━━━━━━━━━━━━━━━━━━╇━━━━━━━━━━━━━━━┩\n",
              "│ dense_2 (\u001b[38;5;33mDense\u001b[0m)                 │ (\u001b[38;5;45mNone\u001b[0m, \u001b[38;5;34m64\u001b[0m)             │         \u001b[38;5;34m1,344\u001b[0m │\n",
              "├─────────────────────────────────┼────────────────────────┼───────────────┤\n",
              "│ dense_3 (\u001b[38;5;33mDense\u001b[0m)                 │ (\u001b[38;5;45mNone\u001b[0m, \u001b[38;5;34m1\u001b[0m)              │            \u001b[38;5;34m65\u001b[0m │\n",
              "└─────────────────────────────────┴────────────────────────┴───────────────┘\n"
            ],
            "text/html": [
              "<pre style=\"white-space:pre;overflow-x:auto;line-height:normal;font-family:Menlo,'DejaVu Sans Mono',consolas,'Courier New',monospace\">┏━━━━━━━━━━━━━━━━━━━━━━━━━━━━━━━━━┳━━━━━━━━━━━━━━━━━━━━━━━━┳━━━━━━━━━━━━━━━┓\n",
              "┃<span style=\"font-weight: bold\"> Layer (type)                    </span>┃<span style=\"font-weight: bold\"> Output Shape           </span>┃<span style=\"font-weight: bold\">       Param # </span>┃\n",
              "┡━━━━━━━━━━━━━━━━━━━━━━━━━━━━━━━━━╇━━━━━━━━━━━━━━━━━━━━━━━━╇━━━━━━━━━━━━━━━┩\n",
              "│ dense_2 (<span style=\"color: #0087ff; text-decoration-color: #0087ff\">Dense</span>)                 │ (<span style=\"color: #00d7ff; text-decoration-color: #00d7ff\">None</span>, <span style=\"color: #00af00; text-decoration-color: #00af00\">64</span>)             │         <span style=\"color: #00af00; text-decoration-color: #00af00\">1,344</span> │\n",
              "├─────────────────────────────────┼────────────────────────┼───────────────┤\n",
              "│ dense_3 (<span style=\"color: #0087ff; text-decoration-color: #0087ff\">Dense</span>)                 │ (<span style=\"color: #00d7ff; text-decoration-color: #00d7ff\">None</span>, <span style=\"color: #00af00; text-decoration-color: #00af00\">1</span>)              │            <span style=\"color: #00af00; text-decoration-color: #00af00\">65</span> │\n",
              "└─────────────────────────────────┴────────────────────────┴───────────────┘\n",
              "</pre>\n"
            ]
          },
          "metadata": {}
        },
        {
          "output_type": "display_data",
          "data": {
            "text/plain": [
              "\u001b[1m Total params: \u001b[0m\u001b[38;5;34m1,409\u001b[0m (5.50 KB)\n"
            ],
            "text/html": [
              "<pre style=\"white-space:pre;overflow-x:auto;line-height:normal;font-family:Menlo,'DejaVu Sans Mono',consolas,'Courier New',monospace\"><span style=\"font-weight: bold\"> Total params: </span><span style=\"color: #00af00; text-decoration-color: #00af00\">1,409</span> (5.50 KB)\n",
              "</pre>\n"
            ]
          },
          "metadata": {}
        },
        {
          "output_type": "display_data",
          "data": {
            "text/plain": [
              "\u001b[1m Trainable params: \u001b[0m\u001b[38;5;34m1,409\u001b[0m (5.50 KB)\n"
            ],
            "text/html": [
              "<pre style=\"white-space:pre;overflow-x:auto;line-height:normal;font-family:Menlo,'DejaVu Sans Mono',consolas,'Courier New',monospace\"><span style=\"font-weight: bold\"> Trainable params: </span><span style=\"color: #00af00; text-decoration-color: #00af00\">1,409</span> (5.50 KB)\n",
              "</pre>\n"
            ]
          },
          "metadata": {}
        },
        {
          "output_type": "display_data",
          "data": {
            "text/plain": [
              "\u001b[1m Non-trainable params: \u001b[0m\u001b[38;5;34m0\u001b[0m (0.00 B)\n"
            ],
            "text/html": [
              "<pre style=\"white-space:pre;overflow-x:auto;line-height:normal;font-family:Menlo,'DejaVu Sans Mono',consolas,'Courier New',monospace\"><span style=\"font-weight: bold\"> Non-trainable params: </span><span style=\"color: #00af00; text-decoration-color: #00af00\">0</span> (0.00 B)\n",
              "</pre>\n"
            ]
          },
          "metadata": {}
        },
        {
          "output_type": "stream",
          "name": "stdout",
          "text": [
            "\n",
            "Optimizer configured with gradient clipping (clipnorm=1.0) to prevent exploding gradients.\n",
            "\n",
            "--- Question 10: Custom Loss Function (Keras) ---\n"
          ]
        },
        {
          "output_type": "display_data",
          "data": {
            "text/plain": [
              "\u001b[1mModel: \"sequential_7\"\u001b[0m\n"
            ],
            "text/html": [
              "<pre style=\"white-space:pre;overflow-x:auto;line-height:normal;font-family:Menlo,'DejaVu Sans Mono',consolas,'Courier New',monospace\"><span style=\"font-weight: bold\">Model: \"sequential_7\"</span>\n",
              "</pre>\n"
            ]
          },
          "metadata": {}
        },
        {
          "output_type": "display_data",
          "data": {
            "text/plain": [
              "┏━━━━━━━━━━━━━━━━━━━━━━━━━━━━━━━━━┳━━━━━━━━━━━━━━━━━━━━━━━━┳━━━━━━━━━━━━━━━┓\n",
              "┃\u001b[1m \u001b[0m\u001b[1mLayer (type)                   \u001b[0m\u001b[1m \u001b[0m┃\u001b[1m \u001b[0m\u001b[1mOutput Shape          \u001b[0m\u001b[1m \u001b[0m┃\u001b[1m \u001b[0m\u001b[1m      Param #\u001b[0m\u001b[1m \u001b[0m┃\n",
              "┡━━━━━━━━━━━━━━━━━━━━━━━━━━━━━━━━━╇━━━━━━━━━━━━━━━━━━━━━━━━╇━━━━━━━━━━━━━━━┩\n",
              "│ dense_4 (\u001b[38;5;33mDense\u001b[0m)                 │ (\u001b[38;5;45mNone\u001b[0m, \u001b[38;5;34m64\u001b[0m)             │         \u001b[38;5;34m1,344\u001b[0m │\n",
              "├─────────────────────────────────┼────────────────────────┼───────────────┤\n",
              "│ dense_5 (\u001b[38;5;33mDense\u001b[0m)                 │ (\u001b[38;5;45mNone\u001b[0m, \u001b[38;5;34m1\u001b[0m)              │            \u001b[38;5;34m65\u001b[0m │\n",
              "└─────────────────────────────────┴────────────────────────┴───────────────┘\n"
            ],
            "text/html": [
              "<pre style=\"white-space:pre;overflow-x:auto;line-height:normal;font-family:Menlo,'DejaVu Sans Mono',consolas,'Courier New',monospace\">┏━━━━━━━━━━━━━━━━━━━━━━━━━━━━━━━━━┳━━━━━━━━━━━━━━━━━━━━━━━━┳━━━━━━━━━━━━━━━┓\n",
              "┃<span style=\"font-weight: bold\"> Layer (type)                    </span>┃<span style=\"font-weight: bold\"> Output Shape           </span>┃<span style=\"font-weight: bold\">       Param # </span>┃\n",
              "┡━━━━━━━━━━━━━━━━━━━━━━━━━━━━━━━━━╇━━━━━━━━━━━━━━━━━━━━━━━━╇━━━━━━━━━━━━━━━┩\n",
              "│ dense_4 (<span style=\"color: #0087ff; text-decoration-color: #0087ff\">Dense</span>)                 │ (<span style=\"color: #00d7ff; text-decoration-color: #00d7ff\">None</span>, <span style=\"color: #00af00; text-decoration-color: #00af00\">64</span>)             │         <span style=\"color: #00af00; text-decoration-color: #00af00\">1,344</span> │\n",
              "├─────────────────────────────────┼────────────────────────┼───────────────┤\n",
              "│ dense_5 (<span style=\"color: #0087ff; text-decoration-color: #0087ff\">Dense</span>)                 │ (<span style=\"color: #00d7ff; text-decoration-color: #00d7ff\">None</span>, <span style=\"color: #00af00; text-decoration-color: #00af00\">1</span>)              │            <span style=\"color: #00af00; text-decoration-color: #00af00\">65</span> │\n",
              "└─────────────────────────────────┴────────────────────────┴───────────────┘\n",
              "</pre>\n"
            ]
          },
          "metadata": {}
        },
        {
          "output_type": "display_data",
          "data": {
            "text/plain": [
              "\u001b[1m Total params: \u001b[0m\u001b[38;5;34m1,409\u001b[0m (5.50 KB)\n"
            ],
            "text/html": [
              "<pre style=\"white-space:pre;overflow-x:auto;line-height:normal;font-family:Menlo,'DejaVu Sans Mono',consolas,'Courier New',monospace\"><span style=\"font-weight: bold\"> Total params: </span><span style=\"color: #00af00; text-decoration-color: #00af00\">1,409</span> (5.50 KB)\n",
              "</pre>\n"
            ]
          },
          "metadata": {}
        },
        {
          "output_type": "display_data",
          "data": {
            "text/plain": [
              "\u001b[1m Trainable params: \u001b[0m\u001b[38;5;34m1,409\u001b[0m (5.50 KB)\n"
            ],
            "text/html": [
              "<pre style=\"white-space:pre;overflow-x:auto;line-height:normal;font-family:Menlo,'DejaVu Sans Mono',consolas,'Courier New',monospace\"><span style=\"font-weight: bold\"> Trainable params: </span><span style=\"color: #00af00; text-decoration-color: #00af00\">1,409</span> (5.50 KB)\n",
              "</pre>\n"
            ]
          },
          "metadata": {}
        },
        {
          "output_type": "display_data",
          "data": {
            "text/plain": [
              "\u001b[1m Non-trainable params: \u001b[0m\u001b[38;5;34m0\u001b[0m (0.00 B)\n"
            ],
            "text/html": [
              "<pre style=\"white-space:pre;overflow-x:auto;line-height:normal;font-family:Menlo,'DejaVu Sans Mono',consolas,'Courier New',monospace\"><span style=\"font-weight: bold\"> Non-trainable params: </span><span style=\"color: #00af00; text-decoration-color: #00af00\">0</span> (0.00 B)\n",
              "</pre>\n"
            ]
          },
          "metadata": {}
        },
        {
          "output_type": "stream",
          "name": "stdout",
          "text": [
            "\n",
            "Model compiled with a custom Mean Absolute Error (MAE) loss function.\n",
            "\n",
            "--- Question 11: Visualize Model Structure (Keras) ---\n",
            "Model Summary (Text-based):\n"
          ]
        },
        {
          "output_type": "display_data",
          "data": {
            "text/plain": [
              "\u001b[1mModel: \"sequential_2\"\u001b[0m\n"
            ],
            "text/html": [
              "<pre style=\"white-space:pre;overflow-x:auto;line-height:normal;font-family:Menlo,'DejaVu Sans Mono',consolas,'Courier New',monospace\"><span style=\"font-weight: bold\">Model: \"sequential_2\"</span>\n",
              "</pre>\n"
            ]
          },
          "metadata": {}
        },
        {
          "output_type": "display_data",
          "data": {
            "text/plain": [
              "┏━━━━━━━━━━━━━━━━━━━━━━━━━━━━━━━━━┳━━━━━━━━━━━━━━━━━━━━━━━━┳━━━━━━━━━━━━━━━┓\n",
              "┃\u001b[1m \u001b[0m\u001b[1mLayer (type)                   \u001b[0m\u001b[1m \u001b[0m┃\u001b[1m \u001b[0m\u001b[1mOutput Shape          \u001b[0m\u001b[1m \u001b[0m┃\u001b[1m \u001b[0m\u001b[1m      Param #\u001b[0m\u001b[1m \u001b[0m┃\n",
              "┡━━━━━━━━━━━━━━━━━━━━━━━━━━━━━━━━━╇━━━━━━━━━━━━━━━━━━━━━━━━╇━━━━━━━━━━━━━━━┩\n",
              "│ hidden_relu (\u001b[38;5;33mDense\u001b[0m)             │ (\u001b[38;5;45mNone\u001b[0m, \u001b[38;5;34m128\u001b[0m)            │         \u001b[38;5;34m2,688\u001b[0m │\n",
              "├─────────────────────────────────┼────────────────────────┼───────────────┤\n",
              "│ hidden_tanh (\u001b[38;5;33mDense\u001b[0m)             │ (\u001b[38;5;45mNone\u001b[0m, \u001b[38;5;34m64\u001b[0m)             │         \u001b[38;5;34m8,256\u001b[0m │\n",
              "├─────────────────────────────────┼────────────────────────┼───────────────┤\n",
              "│ hidden_sigmoid (\u001b[38;5;33mDense\u001b[0m)          │ (\u001b[38;5;45mNone\u001b[0m, \u001b[38;5;34m32\u001b[0m)             │         \u001b[38;5;34m2,080\u001b[0m │\n",
              "├─────────────────────────────────┼────────────────────────┼───────────────┤\n",
              "│ output_sigmoid_binary (\u001b[38;5;33mDense\u001b[0m)   │ (\u001b[38;5;45mNone\u001b[0m, \u001b[38;5;34m1\u001b[0m)              │            \u001b[38;5;34m33\u001b[0m │\n",
              "└─────────────────────────────────┴────────────────────────┴───────────────┘\n"
            ],
            "text/html": [
              "<pre style=\"white-space:pre;overflow-x:auto;line-height:normal;font-family:Menlo,'DejaVu Sans Mono',consolas,'Courier New',monospace\">┏━━━━━━━━━━━━━━━━━━━━━━━━━━━━━━━━━┳━━━━━━━━━━━━━━━━━━━━━━━━┳━━━━━━━━━━━━━━━┓\n",
              "┃<span style=\"font-weight: bold\"> Layer (type)                    </span>┃<span style=\"font-weight: bold\"> Output Shape           </span>┃<span style=\"font-weight: bold\">       Param # </span>┃\n",
              "┡━━━━━━━━━━━━━━━━━━━━━━━━━━━━━━━━━╇━━━━━━━━━━━━━━━━━━━━━━━━╇━━━━━━━━━━━━━━━┩\n",
              "│ hidden_relu (<span style=\"color: #0087ff; text-decoration-color: #0087ff\">Dense</span>)             │ (<span style=\"color: #00d7ff; text-decoration-color: #00d7ff\">None</span>, <span style=\"color: #00af00; text-decoration-color: #00af00\">128</span>)            │         <span style=\"color: #00af00; text-decoration-color: #00af00\">2,688</span> │\n",
              "├─────────────────────────────────┼────────────────────────┼───────────────┤\n",
              "│ hidden_tanh (<span style=\"color: #0087ff; text-decoration-color: #0087ff\">Dense</span>)             │ (<span style=\"color: #00d7ff; text-decoration-color: #00d7ff\">None</span>, <span style=\"color: #00af00; text-decoration-color: #00af00\">64</span>)             │         <span style=\"color: #00af00; text-decoration-color: #00af00\">8,256</span> │\n",
              "├─────────────────────────────────┼────────────────────────┼───────────────┤\n",
              "│ hidden_sigmoid (<span style=\"color: #0087ff; text-decoration-color: #0087ff\">Dense</span>)          │ (<span style=\"color: #00d7ff; text-decoration-color: #00d7ff\">None</span>, <span style=\"color: #00af00; text-decoration-color: #00af00\">32</span>)             │         <span style=\"color: #00af00; text-decoration-color: #00af00\">2,080</span> │\n",
              "├─────────────────────────────────┼────────────────────────┼───────────────┤\n",
              "│ output_sigmoid_binary (<span style=\"color: #0087ff; text-decoration-color: #0087ff\">Dense</span>)   │ (<span style=\"color: #00d7ff; text-decoration-color: #00d7ff\">None</span>, <span style=\"color: #00af00; text-decoration-color: #00af00\">1</span>)              │            <span style=\"color: #00af00; text-decoration-color: #00af00\">33</span> │\n",
              "└─────────────────────────────────┴────────────────────────┴───────────────┘\n",
              "</pre>\n"
            ]
          },
          "metadata": {}
        },
        {
          "output_type": "display_data",
          "data": {
            "text/plain": [
              "\u001b[1m Total params: \u001b[0m\u001b[38;5;34m13,057\u001b[0m (51.00 KB)\n"
            ],
            "text/html": [
              "<pre style=\"white-space:pre;overflow-x:auto;line-height:normal;font-family:Menlo,'DejaVu Sans Mono',consolas,'Courier New',monospace\"><span style=\"font-weight: bold\"> Total params: </span><span style=\"color: #00af00; text-decoration-color: #00af00\">13,057</span> (51.00 KB)\n",
              "</pre>\n"
            ]
          },
          "metadata": {}
        },
        {
          "output_type": "display_data",
          "data": {
            "text/plain": [
              "\u001b[1m Trainable params: \u001b[0m\u001b[38;5;34m13,057\u001b[0m (51.00 KB)\n"
            ],
            "text/html": [
              "<pre style=\"white-space:pre;overflow-x:auto;line-height:normal;font-family:Menlo,'DejaVu Sans Mono',consolas,'Courier New',monospace\"><span style=\"font-weight: bold\"> Trainable params: </span><span style=\"color: #00af00; text-decoration-color: #00af00\">13,057</span> (51.00 KB)\n",
              "</pre>\n"
            ]
          },
          "metadata": {}
        },
        {
          "output_type": "display_data",
          "data": {
            "text/plain": [
              "\u001b[1m Non-trainable params: \u001b[0m\u001b[38;5;34m0\u001b[0m (0.00 B)\n"
            ],
            "text/html": [
              "<pre style=\"white-space:pre;overflow-x:auto;line-height:normal;font-family:Menlo,'DejaVu Sans Mono',consolas,'Courier New',monospace\"><span style=\"font-weight: bold\"> Non-trainable params: </span><span style=\"color: #00af00; text-decoration-color: #00af00\">0</span> (0.00 B)\n",
              "</pre>\n"
            ]
          },
          "metadata": {}
        },
        {
          "output_type": "stream",
          "name": "stdout",
          "text": [
            "\n",
            "Model structure visualized and saved as 'model_structure.png'.\n",
            "Image will be displayed below if running in a Colab/Jupyter environment.\n"
          ]
        },
        {
          "output_type": "display_data",
          "data": {
            "image/png": "[encoded data removed]",
            "text/plain": [
              "<IPython.core.display.Image object>"
            ]
          },
          "metadata": {}
        },
        {
          "output_type": "stream",
          "name": "stdout",
          "text": [
            "\n",
            "Model structure visualization complete.\n",
            "\n"
          ]
        }
      ],
      "source": [
        "# -*- coding: utf-8 -*-\n",
        "\"\"\"\n",
        "Neural Network: Practical Implementations\n",
        "\"\"\"\n",
        "\n",
        "# --- Colab Setup: Install necessary libraries and system tools ---\n",
        "# Run this cell first in your Google Colab notebook.\n",
        "try:\n",
        "    import tensorflow as tf\n",
        "    import numpy as np\n",
        "    import matplotlib.pyplot as plt\n",
        "    from sklearn.model_selection import train_test_split\n",
        "    from sklearn.datasets import make_classification\n",
        "    from sklearn.preprocessing import StandardScaler\n",
        "    from tensorflow import keras\n",
        "    from tensorflow.keras import layers\n",
        "    from tensorflow.keras.utils import plot_model\n",
        "    from IPython.display import Image as IPImage, display\n",
        "    import os\n",
        "\n",
        "    print(\"All required Python libraries are already installed.\")\n",
        "except ImportError:\n",
        "    print(\"Installing required Python libraries...\")\n",
        "    !pip install tensorflow numpy matplotlib scikit-learn pydot graphviz\n",
        "    print(\"Installing Graphviz system package (required for plot_model)...\")\n",
        "    !apt-get install -y graphviz\n",
        "\n",
        "    # Re-import after installation\n",
        "    import tensorflow as tf\n",
        "    import numpy as np\n",
        "    import matplotlib.pyplot as plt\n",
        "    from sklearn.model_selection import train_test_split\n",
        "    from sklearn.datasets import make_classification\n",
        "    from sklearn.preprocessing import StandardScaler\n",
        "    from tensorflow import keras\n",
        "    from tensorflow.keras import layers\n",
        "    from tensorflow.keras.utils import plot_model\n",
        "    from IPython.display import Image as IPImage, display\n",
        "    import os\n",
        "    print(\"Installation complete and libraries imported.\")\n",
        "\n",
        "# Suppress warnings for cleaner output\n",
        "import warnings\n",
        "warnings.filterwarnings('ignore')\n",
        "\n",
        "print(\"\\n--- Setup Complete ---\")\n",
        "\n",
        "\n",
        "# --- Prepare a synthetic dataset for classification tasks ---\n",
        "# We'll use this dataset for most practical questions.\n",
        "try:\n",
        "    X, y = make_classification(\n",
        "        n_samples=1000,\n",
        "        n_features=20,\n",
        "        n_informative=10,\n",
        "        n_redundant=5,\n",
        "        n_classes=2,\n",
        "        random_state=42\n",
        "    )\n",
        "    # Scale features for better neural network training\n",
        "    scaler = StandardScaler()\n",
        "    X_scaled = scaler.fit_transform(X)\n",
        "\n",
        "    # Split data into training and testing sets\n",
        "    X_train, X_test, y_train, y_test = train_test_split(\n",
        "        X_scaled, y, test_size=0.2, random_state=42\n",
        "    )\n",
        "\n",
        "    print(\"Synthetic dataset created and scaled for practical examples.\")\n",
        "    print(f\"X_train shape: {X_train.shape}, y_train shape: {y_train.shape}\")\n",
        "    print(f\"X_test shape: {X_test.shape}, y_test shape: {y_test.shape}\\n\")\n",
        "except Exception as e:\n",
        "    print(f\"Error preparing dataset: {e}\")\n",
        "    # Exit or handle gracefully if dataset creation fails\n",
        "    exit()\n",
        "\n",
        "\n",
        "# --- Practical Question 1: How do you create a simple perceptron for basic binary classification? ---\n",
        "print(\"--- Practical Question 1: Simple Perceptron ---\")\n",
        "\n",
        "class SimplePerceptron:\n",
        "    def __init__(self, num_features, learning_rate=0.01):\n",
        "        \"\"\"\n",
        "        Initializes the perceptron.\n",
        "        Args:\n",
        "            num_features (int): Number of input features.\n",
        "            learning_rate (float): Step size for weight updates.\n",
        "        \"\"\"\n",
        "        self.weights = np.zeros(num_features) # Initialize weights to zeros\n",
        "        self.bias = 0.0                      # Initialize bias to zero\n",
        "        self.learning_rate = learning_rate\n",
        "\n",
        "    def predict(self, inputs):\n",
        "        \"\"\"\n",
        "        Makes a prediction using the perceptron.\n",
        "        Args:\n",
        "            inputs (np.array): Input features.\n",
        "        Returns:\n",
        "            int: 1 if activation >= 0, else 0.\n",
        "        \"\"\"\n",
        "        # Calculate the weighted sum of inputs plus bias\n",
        "        linear_output = np.dot(inputs, self.weights) + self.bias\n",
        "        # Apply step activation function\n",
        "        return 1 if linear_output >= 0 else 0\n",
        "\n",
        "    def train(self, training_inputs, labels, epochs):\n",
        "        \"\"\"\n",
        "        Trains the perceptron using the perceptron learning rule.\n",
        "        Args:\n",
        "            training_inputs (np.array): Array of input features for training.\n",
        "            labels (np.array): Array of true labels (0 or 1).\n",
        "            epochs (int): Number of training iterations.\n",
        "        \"\"\"\n",
        "        print(f\"Training Simple Perceptron for {epochs} epochs...\")\n",
        "        for epoch in range(epochs):\n",
        "            errors = 0\n",
        "            for inputs, label in zip(training_inputs, labels):\n",
        "                prediction = self.predict(inputs)\n",
        "                error = label - prediction # Calculate the error\n",
        "                if error != 0:\n",
        "                    # Update weights and bias based on the error\n",
        "                    self.weights += self.learning_rate * error * inputs\n",
        "                    self.bias += self.learning_rate * error\n",
        "                    errors += 1\n",
        "            # Optional: Print progress\n",
        "            if (epoch + 1) % 10 == 0 or epoch == epochs - 1:\n",
        "                print(f\"Epoch {epoch + 1}/{epochs}, Errors: {errors}\")\n",
        "            if errors == 0: # If no errors, perceptron has converged\n",
        "                print(f\"Perceptron converged after {epoch + 1} epochs.\")\n",
        "                break\n",
        "\n",
        "try:\n",
        "    # Instantiate and train the perceptron\n",
        "    # Use a subset of the data for simplicity and faster convergence for a simple perceptron\n",
        "    perceptron_X_train = X_train[:, :2] # Use only first 2 features for simplicity\n",
        "    perceptron_y_train = y_train\n",
        "\n",
        "    perceptron = SimplePerceptron(num_features=perceptron_X_train.shape[1], learning_rate=0.1)\n",
        "    perceptron.train(perceptron_X_train, perceptron_y_train, epochs=100)\n",
        "\n",
        "    # Evaluate the perceptron\n",
        "    perceptron_X_test = X_test[:, :2]\n",
        "    predictions = [perceptron.predict(x) for x in perceptron_X_test]\n",
        "    accuracy = np.mean(predictions == y_test)\n",
        "    print(f\"Perceptron Test Accuracy: {accuracy:.4f}\\n\")\n",
        "except Exception as e:\n",
        "    print(f\"Error in Question 1 (Simple Perceptron): {e}\\n\")\n",
        "\n",
        "\n",
        "# --- Practical Question 2: How can you build a neural network with one hidden layer using Keras? ---\n",
        "print(\"--- Practical Question 2: NN with One Hidden Layer (Keras) ---\")\n",
        "\n",
        "try:\n",
        "    # Define the model using Keras Sequential API\n",
        "    model_q2 = keras.Sequential([\n",
        "        # Input layer (implicitly defined by input_shape in the first hidden layer)\n",
        "        layers.Dense(64, activation='relu', input_shape=(X_train.shape[1],), name='hidden_layer_1'),\n",
        "        # Output layer for binary classification\n",
        "        layers.Dense(1, activation='sigmoid', name='output_layer')\n",
        "    ])\n",
        "\n",
        "    # Compile the model\n",
        "    model_q2.compile(\n",
        "        optimizer='adam',\n",
        "        loss='binary_crossentropy',\n",
        "        metrics=['accuracy']\n",
        "    )\n",
        "\n",
        "    # Display model summary\n",
        "    model_q2.summary()\n",
        "\n",
        "    # Train the model (using a small number of epochs for demonstration)\n",
        "    history_q2 = model_q2.fit(\n",
        "        X_train, y_train,\n",
        "        epochs=10,\n",
        "        batch_size=32,\n",
        "        validation_split=0.2, # Use a portion of training data for validation\n",
        "        verbose=0 # Suppress verbose output during fit\n",
        "    )\n",
        "\n",
        "    # Evaluate the model\n",
        "    loss_q2, accuracy_q2 = model_q2.evaluate(X_test, y_test, verbose=0)\n",
        "    print(f\"Model with One Hidden Layer Test Loss: {loss_q2:.4f}\")\n",
        "    print(f\"Model with One Hidden Layer Test Accuracy: {accuracy_q2:.4f}\\n\")\n",
        "except Exception as e:\n",
        "    print(f\"Error in Question 2 (NN with One Hidden Layer): {e}\\n\")\n",
        "\n",
        "\n",
        "# --- Practical Question 3: How do you initialize weights using the Xavier (Glorot) initialization method in Keras? ---\n",
        "print(\"--- Practical Question 3: Xavier (Glorot) Initialization (Keras) ---\")\n",
        "\n",
        "try:\n",
        "    # Xavier (Glorot) initialization is often the default for 'relu' and 'tanh' activations\n",
        "    # It can be explicitly specified using 'glorot_uniform' or 'glorot_normal'\n",
        "\n",
        "    model_q3 = keras.Sequential([\n",
        "        layers.Dense(\n",
        "            64,\n",
        "            activation='relu',\n",
        "            input_shape=(X_train.shape[1],),\n",
        "            kernel_initializer='glorot_uniform', # Explicitly using Glorot uniform\n",
        "            name='hidden_layer_glorot'\n",
        "        ),\n",
        "        layers.Dense(\n",
        "            1,\n",
        "            activation='sigmoid',\n",
        "            kernel_initializer='glorot_normal', # Explicitly using Glorot normal\n",
        "            name='output_layer_glorot'\n",
        "        )\n",
        "    ])\n",
        "\n",
        "    model_q3.compile(\n",
        "        optimizer='adam',\n",
        "        loss='binary_crossentropy',\n",
        "        metrics=['accuracy']\n",
        "    )\n",
        "\n",
        "    model_q3.summary()\n",
        "    print(\"\\nWeights initialized using Glorot (Xavier) initialization in Keras.\")\n",
        "    print(\"This is often the default for ReLU and Tanh activations, but can be specified explicitly.\\n\")\n",
        "except Exception as e:\n",
        "    print(f\"Error in Question 3 (Xavier Initialization): {e}\\n\")\n",
        "\n",
        "\n",
        "# --- Practical Question 4: How can you apply different activation functions in a neural network in Keras? ---\n",
        "print(\"--- Practical Question 4: Different Activation Functions (Keras) ---\")\n",
        "\n",
        "try:\n",
        "    model_q4 = keras.Sequential([\n",
        "        # First hidden layer with ReLU activation (common for hidden layers)\n",
        "        layers.Dense(128, activation='relu', input_shape=(X_train.shape[1],), name='hidden_relu'),\n",
        "        # Second hidden layer with Tanh activation\n",
        "        layers.Dense(64, activation='tanh', name='hidden_tanh'),\n",
        "        # Third hidden layer with Sigmoid activation\n",
        "        layers.Dense(32, activation='sigmoid', name='hidden_sigmoid'),\n",
        "        # Output layer for binary classification with Sigmoid\n",
        "        layers.Dense(1, activation='sigmoid', name='output_sigmoid_binary')\n",
        "    ])\n",
        "\n",
        "    model_q4.compile(\n",
        "        optimizer='adam',\n",
        "        loss='binary_crossentropy',\n",
        "        metrics=['accuracy']\n",
        "    )\n",
        "\n",
        "    model_q4.summary()\n",
        "    print(\"\\nModel built with different activation functions (ReLU, Tanh, Sigmoid).\\n\")\n",
        "except Exception as e:\n",
        "    print(f\"Error in Question 4 (Different Activation Functions): {e}\\n\")\n",
        "\n",
        "\n",
        "# --- Practical Question 5: How do you add dropout to a neural network model to prevent overfitting? ---\n",
        "print(\"--- Practical Question 5: Adding Dropout (Keras) ---\")\n",
        "\n",
        "try:\n",
        "    model_q5 = keras.Sequential([\n",
        "        layers.Dense(128, activation='relu', input_shape=(X_train.shape[1],), name='dense_1'),\n",
        "        layers.Dropout(0.3, name='dropout_1'), # Dropout layer after the first dense layer\n",
        "        layers.Dense(64, activation='relu', name='dense_2'),\n",
        "        layers.Dropout(0.2, name='dropout_2'), # Dropout layer after the second dense layer\n",
        "        layers.Dense(1, activation='sigmoid', name='output_layer_dropout')\n",
        "    ])\n",
        "\n",
        "    model_q5.compile(\n",
        "        optimizer='adam',\n",
        "        loss='binary_crossentropy',\n",
        "        metrics=['accuracy']\n",
        "    )\n",
        "\n",
        "    model_q5.summary()\n",
        "\n",
        "    print(\"\\nDropout layers added to the model to help prevent overfitting.\")\n",
        "    print(\"The dropout rate (e.g., 0.3 means 30% of neurons are randomly set to zero) is a hyperparameter.\\n\")\n",
        "except Exception as e:\n",
        "    print(f\"Error in Question 5 (Adding Dropout): {e}\\n\")\n",
        "\n",
        "\n",
        "# --- Practical Question 6: How do you manually implement forward propagation in a simple neural network? ---\n",
        "print(\"--- Practical Question 6: Manual Forward Propagation ---\")\n",
        "\n",
        "try:\n",
        "    # Define a simple 2-layer network structure (input -> hidden -> output)\n",
        "    # For demonstration, let's assume 3 input features, 4 hidden neurons, 1 output neuron\n",
        "    input_size = 3\n",
        "    hidden_size = 4\n",
        "    output_size = 1\n",
        "\n",
        "    # Randomly initialize weights and biases for demonstration\n",
        "    np.random.seed(42) # for reproducibility\n",
        "    weights_ih = np.random.randn(input_size, hidden_size) * 0.01 # Input to hidden weights\n",
        "    bias_h = np.zeros((1, hidden_size))                        # Hidden layer bias\n",
        "    weights_ho = np.random.randn(hidden_size, output_size) * 0.01 # Hidden to output weights\n",
        "    bias_o = np.zeros((1, output_size))                        # Output layer bias\n",
        "\n",
        "    def sigmoid(x):\n",
        "        # Ensure numerical stability for large positive/negative x\n",
        "        return 1 / (1 + np.exp(-np.clip(x, -500, 500))) # Clip to prevent overflow/underflow\n",
        "\n",
        "    def forward_propagation(inputs, weights_ih, bias_h, weights_ho, bias_o):\n",
        "        \"\"\"\n",
        "        Manually implements forward propagation for a simple 2-layer neural network.\n",
        "        \"\"\"\n",
        "        # Hidden layer calculation\n",
        "        hidden_layer_input = np.dot(inputs, weights_ih) + bias_h\n",
        "        hidden_layer_output = sigmoid(hidden_layer_input)\n",
        "\n",
        "        # Output layer calculation\n",
        "        output_layer_input = np.dot(hidden_layer_output, weights_ho) + bias_o\n",
        "        final_output = sigmoid(output_layer_input) # Using sigmoid for output as an example\n",
        "\n",
        "        return final_output\n",
        "\n",
        "    # Example input (ensure shape matches input_size)\n",
        "    sample_input = np.array([[0.5, 0.2, 0.8]]) # Shape (1, input_size)\n",
        "\n",
        "    # Perform forward propagation\n",
        "    prediction_manual = forward_propagation(sample_input, weights_ih, bias_h, weights_ho, bias_o)\n",
        "    print(f\"Sample Input: {sample_input}\")\n",
        "    print(f\"Manually Calculated Prediction: {prediction_manual[0][0]:.4f}\\n\")\n",
        "except Exception as e:\n",
        "    print(f\"Error in Question 6 (Manual Forward Propagation): {e}\\n\")\n",
        "\n",
        "\n",
        "# --- Question 7: How do you add batch normalization to a neural network model in Keras? ---\n",
        "print(\"--- Question 7: Adding Batch Normalization (Keras) ---\")\n",
        "\n",
        "try:\n",
        "    model_q7 = keras.Sequential([\n",
        "        layers.Dense(128, input_shape=(X_train.shape[1],), name='dense_bn_1'),\n",
        "        layers.BatchNormalization(name='batchnorm_1'), # Batch Normalization layer\n",
        "        layers.Activation('relu', name='activation_1'), # Activation after BN (or before, depending on preference)\n",
        "        layers.Dense(64, name='dense_bn_2'),\n",
        "        layers.BatchNormalization(name='batchnorm_2'), # Batch Normalization layer\n",
        "        layers.Activation('relu', name='activation_2'),\n",
        "        layers.Dense(1, activation='sigmoid', name='output_layer_bn')\n",
        "    ])\n",
        "\n",
        "    model_q7.compile(\n",
        "        optimizer='adam',\n",
        "        loss='binary_crossentropy',\n",
        "        metrics=['accuracy']\n",
        "    )\n",
        "\n",
        "    model_q7.summary()\n",
        "\n",
        "    print(\"\\nBatch Normalization layers added to the model.\")\n",
        "    print(\"Batch Norm helps stabilize and accelerate training by normalizing inputs to layers.\\n\")\n",
        "except Exception as e:\n",
        "    print(f\"Error in Question 7 (Adding Batch Normalization): {e}\\n\")\n",
        "\n",
        "\n",
        "# --- Question 8: How can you visualize the training process with accuracy and loss curves? ---\n",
        "print(\"--- Question 8: Visualize Training Process ---\")\n",
        "\n",
        "try:\n",
        "    # Train a model to get history object\n",
        "    model_q8 = keras.Sequential([\n",
        "        layers.Dense(64, activation='relu', input_shape=(X_train.shape[1],)),\n",
        "        layers.Dense(1, activation='sigmoid')\n",
        "    ])\n",
        "    model_q8.compile(optimizer='adam', loss='binary_crossentropy', metrics=['accuracy'])\n",
        "\n",
        "    # Train and store history\n",
        "    history_q8 = model_q8.fit(\n",
        "        X_train, y_train,\n",
        "        epochs=50, # More epochs to see trends\n",
        "        batch_size=32,\n",
        "        validation_split=0.2,\n",
        "        verbose=0\n",
        "    )\n",
        "\n",
        "    # Plot training & validation accuracy values\n",
        "    plt.figure(figsize=(12, 5))\n",
        "\n",
        "    plt.subplot(1, 2, 1)\n",
        "    plt.plot(history_q8.history['accuracy'])\n",
        "    plt.plot(history_q8.history['val_accuracy'])\n",
        "    plt.title('Model Accuracy')\n",
        "    plt.ylabel('Accuracy')\n",
        "    plt.xlabel('Epoch')\n",
        "    plt.legend(['Train', 'Validation'], loc='upper left')\n",
        "    plt.grid(True)\n",
        "\n",
        "    # Plot training & validation loss values\n",
        "    plt.subplot(1, 2, 2)\n",
        "    plt.plot(history_q8.history['loss'])\n",
        "    plt.plot(history_q8.history['val_loss'])\n",
        "    plt.title('Model Loss')\n",
        "    plt.ylabel('Loss')\n",
        "    plt.xlabel('Epoch')\n",
        "    plt.legend(['Train', 'Validation'], loc='upper left')\n",
        "    plt.grid(True)\n",
        "\n",
        "    plt.tight_layout()\n",
        "    plt.show()\n",
        "\n",
        "    print(\"\\nTraining and validation accuracy/loss curves plotted above.\\n\")\n",
        "except Exception as e:\n",
        "    print(f\"Error in Question 8 (Visualize Training Process): {e}\\n\")\n",
        "\n",
        "\n",
        "# --- Question 9: How can you use gradient clipping in Keras to control the gradient size and prevent exploding gradients? ---\n",
        "print(\"--- Question 9: Gradient Clipping (Keras) ---\")\n",
        "\n",
        "try:\n",
        "    # Create an optimizer with gradient clipping\n",
        "    # clipnorm: clips gradients by norm (e.g., if total gradient norm exceeds 1.0, it's rescaled)\n",
        "    # clipvalue: clips gradients by value (each gradient component is clipped to [-clipvalue, +clipvalue])\n",
        "    optimizer_clipped = keras.optimizers.Adam(learning_rate=0.001, clipnorm=1.0) # Clip gradients by norm 1.0\n",
        "    # Alternatively: optimizer_clipped = keras.optimizers.Adam(learning_rate=0.001, clipvalue=0.5) # Clip gradients by value 0.5\n",
        "\n",
        "    model_q9 = keras.Sequential([\n",
        "        layers.Dense(64, activation='relu', input_shape=(X_train.shape[1],)),\n",
        "        layers.Dense(1, activation='sigmoid')\n",
        "    ])\n",
        "\n",
        "    model_q9.compile(\n",
        "        optimizer=optimizer_clipped, # Use the clipped optimizer\n",
        "        loss='binary_crossentropy',\n",
        "        metrics=['accuracy']\n",
        "    )\n",
        "\n",
        "    model_q9.summary()\n",
        "    print(\"\\nOptimizer configured with gradient clipping (clipnorm=1.0) to prevent exploding gradients.\\n\")\n",
        "except Exception as e:\n",
        "    print(f\"Error in Question 9 (Gradient Clipping): {e}\\n\")\n",
        "\n",
        "\n",
        "# --- Question 10: How can you create a custom loss function in Keras? ---\n",
        "print(\"--- Question 10: Custom Loss Function (Keras) ---\")\n",
        "\n",
        "try:\n",
        "    # Example: A simple custom MSE loss function (for demonstration, MSE is already built-in)\n",
        "    def custom_mse_loss(y_true, y_pred):\n",
        "        \"\"\"\n",
        "        Custom Mean Squared Error loss function.\n",
        "        Ensures y_true and y_pred are cast to float32 for consistent operations.\n",
        "        \"\"\"\n",
        "        y_true = tf.cast(y_true, tf.float32)\n",
        "        y_pred = tf.cast(y_pred, tf.float32)\n",
        "        return tf.reduce_mean(tf.square(y_true - y_pred))\n",
        "\n",
        "    # Or a custom L1 loss (Mean Absolute Error)\n",
        "    def custom_mae_loss(y_true, y_pred):\n",
        "        \"\"\"\n",
        "        Custom Mean Absolute Error loss function.\n",
        "        Ensures y_true and y_pred are cast to float32 for consistent operations.\n",
        "        \"\"\"\n",
        "        y_true = tf.cast(y_true, tf.float32)\n",
        "        y_pred = tf.cast(y_pred, tf.float32)\n",
        "        return tf.reduce_mean(tf.abs(y_true - y_pred))\n",
        "\n",
        "    model_q10 = keras.Sequential([\n",
        "        layers.Dense(64, activation='relu', input_shape=(X_train.shape[1],)),\n",
        "        layers.Dense(1, activation='sigmoid') # Use sigmoid for output if y_true is 0/1\n",
        "    ])\n",
        "\n",
        "    model_q10.compile(\n",
        "        optimizer='adam',\n",
        "        loss=custom_mae_loss, # Use the custom loss function\n",
        "        metrics=['accuracy']\n",
        "    )\n",
        "\n",
        "    model_q10.summary()\n",
        "    print(\"\\nModel compiled with a custom Mean Absolute Error (MAE) loss function.\\n\")\n",
        "except Exception as e:\n",
        "    print(f\"Error in Question 10 (Custom Loss Function): {e}\\n\")\n",
        "\n",
        "\n",
        "# --- Question 11: How can you visualize the structure of a neural network model in Keras? ---\n",
        "print(\"--- Question 11: Visualize Model Structure (Keras) ---\")\n",
        "\n",
        "try:\n",
        "    # Using the model from Question 4 for visualization (ensure it was successfully created)\n",
        "    if 'model_q4' in locals():\n",
        "        model_q11 = model_q4\n",
        "    else:\n",
        "        # If model_q4 failed, create a simple model for visualization\n",
        "        model_q11 = keras.Sequential([\n",
        "            layers.Dense(32, activation='relu', input_shape=(X_train.shape[1],), name='simple_dense_layer'),\n",
        "            layers.Dense(1, activation='sigmoid', name='simple_output_layer')\n",
        "        ])\n",
        "        model_q11.build((None, X_train.shape[1])) # Build the model to infer shapes\n",
        "\n",
        "    # Option 1: Print model summary (text-based)\n",
        "    print(\"Model Summary (Text-based):\")\n",
        "    model_q11.summary()\n",
        "\n",
        "    # Option 2: Plot model as an image (requires graphviz and pydotplus)\n",
        "    output_filename = 'model_structure.png'\n",
        "    # Ensure the file path is writable in Colab's default /content/ directory\n",
        "    try:\n",
        "        plot_model(\n",
        "            model_q11,\n",
        "            to_file=output_filename,\n",
        "            show_shapes=True,\n",
        "            show_layer_names=True,\n",
        "            rankdir='TB' # 'TB' for top-to-bottom, 'LR' for left-to-right\n",
        "        )\n",
        "        print(f\"\\nModel structure visualized and saved as '{output_filename}'.\")\n",
        "        print(\"Image will be displayed below if running in a Colab/Jupyter environment.\")\n",
        "        # Display the image in Colab\n",
        "        display(IPImage(filename=output_filename))\n",
        "    except FileNotFoundError:\n",
        "        print(f\"\\nError: Could not save '{output_filename}'. Ensure Graphviz is correctly installed and accessible.\")\n",
        "    except Exception as e:\n",
        "        print(f\"\\nAn error occurred while plotting the model: {e}\")\n",
        "\n",
        "    print(\"\\nModel structure visualization complete.\\n\")\n",
        "except Exception as e:\n",
        "    print(f\"Error in Question 11 (Visualize Model Structure): {e}\\n\")\n",
        "\n"
      ]
    },
    {
      "cell_type": "code",
      "source": [],
      "metadata": {
        "id": "f49tTOsXZMR0"
      },
      "execution_count": null,
      "outputs": []
    }
  ]
}